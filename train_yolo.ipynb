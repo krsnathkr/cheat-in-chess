{
 "cells": [
  {
   "cell_type": "code",
   "execution_count": null,
   "metadata": {
    "vscode": {
     "languageId": "plaintext"
    }
   },
   "outputs": [],
   "source": [
    "from ultralytics import YOLO\n",
    "\n",
    "# Use a YOLOv8 model configuration or pretrained weights\n",
    "model = YOLO(\"yolov8n.yaml\")  # or \"yolov8n.pt\" to start from pretrained weights\n",
    "\n",
    "# Train the model\n",
    "model.train(data=\"data.yaml\", epochs=50, imgsz=640, batch=16)\n"
   ]
  }
 ],
 "metadata": {
  "language_info": {
   "name": "python"
  }
 },
 "nbformat": 4,
 "nbformat_minor": 2
}
